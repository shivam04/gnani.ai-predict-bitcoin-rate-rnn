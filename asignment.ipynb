{
 "cells": [
  {
   "cell_type": "code",
   "execution_count": 67,
   "metadata": {},
   "outputs": [],
   "source": [
    "import numpy\n",
    "import matplotlib.pyplot as plt\n",
    "import pandas\n",
    "import math\n",
    "from keras.models import Sequential\n",
    "from keras.layers import Dense\n",
    "from keras.layers import LSTM\n",
    "from sklearn.preprocessing import MinMaxScaler\n",
    "from sklearn.metrics import mean_squared_error"
   ]
  },
  {
   "cell_type": "code",
   "execution_count": 68,
   "metadata": {
    "collapsed": true
   },
   "outputs": [],
   "source": [
    "numpy.random.seed(7)"
   ]
  },
  {
   "cell_type": "code",
   "execution_count": 69,
   "metadata": {},
   "outputs": [
    {
     "data": {
      "text/plain": [
       "(1632, 1)"
      ]
     },
     "execution_count": 69,
     "metadata": {},
     "output_type": "execute_result"
    }
   ],
   "source": [
    "dataframe = pandas.read_csv('Bitcoin.csv', usecols=[1], engine='python', skipfooter=3)\n",
    "dataset = dataframe.values\n",
    "dataset = dataset.astype('float32')\n",
    "dataset.shape"
   ]
  },
  {
   "cell_type": "code",
   "execution_count": 70,
   "metadata": {},
   "outputs": [
    {
     "data": {
      "text/html": [
       "<div>\n",
       "<style>\n",
       "    .dataframe thead tr:only-child th {\n",
       "        text-align: right;\n",
       "    }\n",
       "\n",
       "    .dataframe thead th {\n",
       "        text-align: left;\n",
       "    }\n",
       "\n",
       "    .dataframe tbody tr th {\n",
       "        vertical-align: top;\n",
       "    }\n",
       "</style>\n",
       "<table border=\"1\" class=\"dataframe\">\n",
       "  <thead>\n",
       "    <tr style=\"text-align: right;\">\n",
       "      <th></th>\n",
       "      <th>Price</th>\n",
       "    </tr>\n",
       "  </thead>\n",
       "  <tbody>\n",
       "    <tr>\n",
       "      <th>0</th>\n",
       "      <td>0.0</td>\n",
       "    </tr>\n",
       "    <tr>\n",
       "      <th>1</th>\n",
       "      <td>0.0</td>\n",
       "    </tr>\n",
       "    <tr>\n",
       "      <th>2</th>\n",
       "      <td>0.0</td>\n",
       "    </tr>\n",
       "    <tr>\n",
       "      <th>3</th>\n",
       "      <td>0.0</td>\n",
       "    </tr>\n",
       "    <tr>\n",
       "      <th>4</th>\n",
       "      <td>0.0</td>\n",
       "    </tr>\n",
       "  </tbody>\n",
       "</table>\n",
       "</div>"
      ],
      "text/plain": [
       "   Price\n",
       "0    0.0\n",
       "1    0.0\n",
       "2    0.0\n",
       "3    0.0\n",
       "4    0.0"
      ]
     },
     "execution_count": 70,
     "metadata": {},
     "output_type": "execute_result"
    }
   ],
   "source": [
    "dataframe.head()"
   ]
  },
  {
   "cell_type": "code",
   "execution_count": 71,
   "metadata": {},
   "outputs": [
    {
     "data": {
      "text/plain": [
       "(1632, 1)"
      ]
     },
     "execution_count": 71,
     "metadata": {},
     "output_type": "execute_result"
    }
   ],
   "source": [
    "scaler = MinMaxScaler(feature_range=(0, 1))\n",
    "dataset = scaler.fit_transform(dataset)\n",
    "dataset.shape"
   ]
  },
  {
   "cell_type": "code",
   "execution_count": 72,
   "metadata": {},
   "outputs": [
    {
     "name": "stdout",
     "output_type": "stream",
     "text": [
      "(1093, 539)\n",
      "(1093, 1)\n"
     ]
    },
    {
     "data": {
      "text/plain": [
       "(539, 1)"
      ]
     },
     "execution_count": 72,
     "metadata": {},
     "output_type": "execute_result"
    }
   ],
   "source": [
    "train_size = int(len(dataset) * 0.67)\n",
    "test_size = len(dataset) - train_size\n",
    "train, test = dataset[0:train_size,:], dataset[train_size:len(dataset),:]\n",
    "print(len(train), len(test))\n",
    "print(train.shape)\n",
    "test.shape"
   ]
  },
  {
   "cell_type": "code",
   "execution_count": 73,
   "metadata": {
    "collapsed": true
   },
   "outputs": [],
   "source": [
    "\n",
    "def create_dataset(dataset, look_back=1):\n",
    "    dataX, dataY = [], []\n",
    "    c = 0\n",
    "    for i in range(len(dataset)-look_back-1):\n",
    "        a = dataset[i:(i+look_back), 0]\n",
    "        #print(a)\n",
    "        c+=1\n",
    "        dataX.append(a)\n",
    "        dataY.append(dataset[i + look_back, 0])\n",
    "    #print(c)\n",
    "    return numpy.array(dataX), numpy.array(dataY)"
   ]
  },
  {
   "cell_type": "code",
   "execution_count": 74,
   "metadata": {},
   "outputs": [
    {
     "name": "stdout",
     "output_type": "stream",
     "text": [
      "(1091, 1)\n",
      "(1091,)\n",
      "(537, 1)\n",
      "(537,)\n"
     ]
    }
   ],
   "source": [
    "look_back = 1\n",
    "trainX, trainY = create_dataset(train, look_back)\n",
    "testX, testY = create_dataset(test, look_back)\n",
    "print(trainX.shape)\n",
    "print(trainY.shape)\n",
    "print(testX.shape)\n",
    "print(testY.shape)"
   ]
  },
  {
   "cell_type": "code",
   "execution_count": 75,
   "metadata": {},
   "outputs": [
    {
     "name": "stdout",
     "output_type": "stream",
     "text": [
      "(1091, 1, 1)\n",
      "(1091,)\n",
      "(537, 1, 1)\n",
      "(537,)\n"
     ]
    }
   ],
   "source": [
    "trainX = numpy.reshape(trainX, (trainX.shape[0], 1, trainX.shape[1]))\n",
    "testX = numpy.reshape(testX, (testX.shape[0], 1, testX.shape[1]))\n",
    "print(trainX.shape)\n",
    "print(trainY.shape)\n",
    "print(testX.shape)\n",
    "print(testY.shape)"
   ]
  },
  {
   "cell_type": "code",
   "execution_count": 76,
   "metadata": {},
   "outputs": [
    {
     "name": "stdout",
     "output_type": "stream",
     "text": [
      "Epoch 1/100\n",
      "5s - loss: 1.2005e-04 - acc: 0.2704\n",
      "Epoch 2/100\n",
      "4s - loss: 9.7405e-06 - acc: 0.2704\n",
      "Epoch 3/100\n",
      "4s - loss: 2.6005e-06 - acc: 0.2704\n",
      "Epoch 4/100\n",
      "5s - loss: 2.8607e-06 - acc: 0.2704\n",
      "Epoch 5/100\n",
      "7s - loss: 3.2500e-06 - acc: 0.2704\n",
      "Epoch 6/100\n",
      "7s - loss: 2.8589e-06 - acc: 0.2704\n",
      "Epoch 7/100\n",
      "6s - loss: 3.1626e-06 - acc: 0.2704\n",
      "Epoch 8/100\n",
      "6s - loss: 3.1549e-06 - acc: 0.2704\n",
      "Epoch 9/100\n",
      "7s - loss: 3.1431e-06 - acc: 0.2704\n",
      "Epoch 10/100\n",
      "3s - loss: 3.2991e-06 - acc: 0.2704\n",
      "Epoch 11/100\n",
      "4s - loss: 3.0064e-06 - acc: 0.2704\n",
      "Epoch 12/100\n",
      "7s - loss: 3.1147e-06 - acc: 0.2704\n",
      "Epoch 13/100\n",
      "5s - loss: 3.0498e-06 - acc: 0.2704\n",
      "Epoch 14/100\n",
      "4s - loss: 2.8922e-06 - acc: 0.2704\n",
      "Epoch 15/100\n",
      "4s - loss: 2.8195e-06 - acc: 0.2704\n",
      "Epoch 16/100\n",
      "4s - loss: 3.5038e-06 - acc: 0.2704\n",
      "Epoch 17/100\n",
      "4s - loss: 3.0526e-06 - acc: 0.2704\n",
      "Epoch 18/100\n",
      "6s - loss: 2.8528e-06 - acc: 0.2704\n",
      "Epoch 19/100\n",
      "5s - loss: 2.8627e-06 - acc: 0.2704\n",
      "Epoch 20/100\n",
      "5s - loss: 3.0466e-06 - acc: 0.2704\n",
      "Epoch 21/100\n",
      "5s - loss: 2.9825e-06 - acc: 0.2704\n",
      "Epoch 22/100\n",
      "4s - loss: 2.9966e-06 - acc: 0.2704\n",
      "Epoch 23/100\n",
      "5s - loss: 3.0135e-06 - acc: 0.2704\n",
      "Epoch 24/100\n",
      "4s - loss: 2.9517e-06 - acc: 0.2704\n",
      "Epoch 25/100\n",
      "4s - loss: 2.7623e-06 - acc: 0.2704\n",
      "Epoch 26/100\n",
      "4s - loss: 3.1653e-06 - acc: 0.2704\n",
      "Epoch 27/100\n",
      "4s - loss: 3.0999e-06 - acc: 0.2704\n",
      "Epoch 28/100\n",
      "4s - loss: 2.7701e-06 - acc: 0.2704\n",
      "Epoch 29/100\n",
      "5s - loss: 3.1295e-06 - acc: 0.2704\n",
      "Epoch 30/100\n",
      "4s - loss: 2.8597e-06 - acc: 0.2704\n",
      "Epoch 31/100\n",
      "3s - loss: 3.1215e-06 - acc: 0.2704\n",
      "Epoch 32/100\n",
      "4s - loss: 2.7815e-06 - acc: 0.2704\n",
      "Epoch 33/100\n",
      "4s - loss: 2.9278e-06 - acc: 0.2704\n",
      "Epoch 34/100\n",
      "3s - loss: 3.3591e-06 - acc: 0.2704\n",
      "Epoch 35/100\n",
      "4s - loss: 2.9954e-06 - acc: 0.2704\n",
      "Epoch 36/100\n",
      "4s - loss: 2.7055e-06 - acc: 0.2704\n",
      "Epoch 37/100\n",
      "4s - loss: 2.7861e-06 - acc: 0.2704\n",
      "Epoch 38/100\n",
      "5s - loss: 3.1093e-06 - acc: 0.2704\n",
      "Epoch 39/100\n",
      "3s - loss: 2.9490e-06 - acc: 0.2704\n",
      "Epoch 40/100\n",
      "4s - loss: 2.7291e-06 - acc: 0.2704\n",
      "Epoch 41/100\n",
      "5s - loss: 2.9260e-06 - acc: 0.2704\n",
      "Epoch 42/100\n",
      "5s - loss: 3.2026e-06 - acc: 0.2704\n",
      "Epoch 43/100\n",
      "4s - loss: 2.6184e-06 - acc: 0.2704\n",
      "Epoch 44/100\n",
      "4s - loss: 2.9997e-06 - acc: 0.2704\n",
      "Epoch 45/100\n",
      "4s - loss: 3.0011e-06 - acc: 0.2704\n",
      "Epoch 46/100\n",
      "4s - loss: 3.0034e-06 - acc: 0.2704\n",
      "Epoch 47/100\n",
      "4s - loss: 2.9309e-06 - acc: 0.2704\n",
      "Epoch 48/100\n",
      "6s - loss: 2.8761e-06 - acc: 0.2704\n",
      "Epoch 49/100\n",
      "6s - loss: 2.6658e-06 - acc: 0.2704\n",
      "Epoch 50/100\n",
      "5s - loss: 3.0027e-06 - acc: 0.2704\n",
      "Epoch 51/100\n",
      "4s - loss: 2.8527e-06 - acc: 0.2704\n",
      "Epoch 52/100\n",
      "4s - loss: 2.7561e-06 - acc: 0.2704\n",
      "Epoch 53/100\n",
      "4s - loss: 2.9586e-06 - acc: 0.2704\n",
      "Epoch 54/100\n",
      "7s - loss: 3.1299e-06 - acc: 0.2704\n",
      "Epoch 55/100\n",
      "5s - loss: 2.8285e-06 - acc: 0.2704\n",
      "Epoch 56/100\n",
      "6s - loss: 2.8187e-06 - acc: 0.2704\n",
      "Epoch 57/100\n",
      "5s - loss: 2.7353e-06 - acc: 0.2704\n",
      "Epoch 58/100\n",
      "5s - loss: 2.6084e-06 - acc: 0.2704\n",
      "Epoch 59/100\n",
      "4s - loss: 2.8940e-06 - acc: 0.2704\n",
      "Epoch 60/100\n",
      "3s - loss: 2.8715e-06 - acc: 0.2704\n",
      "Epoch 61/100\n",
      "4s - loss: 2.8966e-06 - acc: 0.2704\n",
      "Epoch 62/100\n",
      "4s - loss: 2.8647e-06 - acc: 0.2704\n",
      "Epoch 63/100\n",
      "4s - loss: 2.6364e-06 - acc: 0.2704\n",
      "Epoch 64/100\n",
      "3s - loss: 2.8335e-06 - acc: 0.2704\n",
      "Epoch 65/100\n",
      "3s - loss: 2.7172e-06 - acc: 0.2704\n",
      "Epoch 66/100\n",
      "4s - loss: 2.6623e-06 - acc: 0.2704\n",
      "Epoch 67/100\n",
      "4s - loss: 2.9443e-06 - acc: 0.2704\n",
      "Epoch 68/100\n",
      "4s - loss: 2.6883e-06 - acc: 0.2704\n",
      "Epoch 69/100\n",
      "3s - loss: 2.8650e-06 - acc: 0.2704\n",
      "Epoch 70/100\n",
      "4s - loss: 2.7184e-06 - acc: 0.2704\n",
      "Epoch 71/100\n",
      "5s - loss: 2.8776e-06 - acc: 0.2704\n",
      "Epoch 72/100\n",
      "5s - loss: 2.5791e-06 - acc: 0.2704\n",
      "Epoch 73/100\n",
      "6s - loss: 2.7057e-06 - acc: 0.2704\n",
      "Epoch 74/100\n",
      "7s - loss: 2.9409e-06 - acc: 0.2704\n",
      "Epoch 75/100\n",
      "6s - loss: 2.8643e-06 - acc: 0.2704\n",
      "Epoch 76/100\n",
      "6s - loss: 2.8975e-06 - acc: 0.2704\n",
      "Epoch 77/100\n",
      "6s - loss: 2.7093e-06 - acc: 0.2704\n",
      "Epoch 78/100\n",
      "5s - loss: 2.7951e-06 - acc: 0.2704\n",
      "Epoch 79/100\n",
      "4s - loss: 2.7673e-06 - acc: 0.2704\n",
      "Epoch 80/100\n",
      "3s - loss: 2.4799e-06 - acc: 0.2704\n",
      "Epoch 81/100\n",
      "3s - loss: 2.7292e-06 - acc: 0.2704\n",
      "Epoch 82/100\n",
      "8s - loss: 2.8921e-06 - acc: 0.2704\n",
      "Epoch 83/100\n",
      "6s - loss: 2.3871e-06 - acc: 0.2704\n",
      "Epoch 84/100\n",
      "6s - loss: 2.6755e-06 - acc: 0.2704\n",
      "Epoch 85/100\n",
      "5s - loss: 2.6730e-06 - acc: 0.2704\n",
      "Epoch 86/100\n",
      "4s - loss: 2.5610e-06 - acc: 0.2704\n",
      "Epoch 87/100\n",
      "3s - loss: 2.7691e-06 - acc: 0.2704\n",
      "Epoch 88/100\n",
      "3s - loss: 2.8891e-06 - acc: 0.2704\n",
      "Epoch 89/100\n",
      "3s - loss: 2.5956e-06 - acc: 0.2704\n",
      "Epoch 90/100\n",
      "4s - loss: 2.6719e-06 - acc: 0.2704\n",
      "Epoch 91/100\n",
      "3s - loss: 2.7968e-06 - acc: 0.2704\n",
      "Epoch 92/100\n",
      "4s - loss: 2.8754e-06 - acc: 0.2704\n",
      "Epoch 93/100\n",
      "4s - loss: 2.7591e-06 - acc: 0.2704\n",
      "Epoch 94/100\n",
      "5s - loss: 2.8006e-06 - acc: 0.2704\n",
      "Epoch 95/100\n",
      "6s - loss: 2.6625e-06 - acc: 0.2704\n",
      "Epoch 96/100\n",
      "3s - loss: 2.9697e-06 - acc: 0.2704\n",
      "Epoch 97/100\n",
      "3s - loss: 2.7876e-06 - acc: 0.2704\n",
      "Epoch 98/100\n",
      "3s - loss: 2.7960e-06 - acc: 0.2704\n",
      "Epoch 99/100\n",
      "4s - loss: 2.6538e-06 - acc: 0.2704\n",
      "Epoch 100/100\n",
      "4s - loss: 2.8939e-06 - acc: 0.2704\n"
     ]
    },
    {
     "data": {
      "text/plain": [
       "<keras.callbacks.History at 0x7f4a12b51990>"
      ]
     },
     "execution_count": 76,
     "metadata": {},
     "output_type": "execute_result"
    }
   ],
   "source": [
    "model = Sequential()\n",
    "model.add(LSTM(4, input_shape=(1, look_back)))\n",
    "model.add(Dense(1))\n",
    "model.compile(loss='mean_squared_error', optimizer='adam', metrics=['accuracy'])\n",
    "model.fit(trainX, trainY, epochs=100, batch_size=1, verbose=2)"
   ]
  },
  {
   "cell_type": "code",
   "execution_count": 77,
   "metadata": {},
   "outputs": [
    {
     "name": "stdout",
     "output_type": "stream",
     "text": [
      "Train Score: 22.70 RMSE\n",
      "Test Score: 723.21 RMSE\n"
     ]
    }
   ],
   "source": [
    "trainPredict = model.predict(trainX)\n",
    "#print(trainPredict)\n",
    "testPredict = model.predict(testX)\n",
    "#print([trainY])\n",
    "# invert predictions\n",
    "trainPredict = scaler.inverse_transform(trainPredict)\n",
    "trainY = scaler.inverse_transform([trainY])\n",
    "testPredict = scaler.inverse_transform(testPredict)\n",
    "testY = scaler.inverse_transform([testY])\n",
    "# calculate root mean squared error\n",
    "trainScore = math.sqrt(mean_squared_error(trainY[0], trainPredict[:,0]))\n",
    "print('Train Score: %.2f RMSE' % (trainScore))\n",
    "testScore = math.sqrt(mean_squared_error(testY[0], testPredict[:,0]))\n",
    "print('Test Score: %.2f RMSE' % (testScore))"
   ]
  },
  {
   "cell_type": "code",
   "execution_count": 78,
   "metadata": {},
   "outputs": [
    {
     "data": {
      "image/png": "[encoded data removed]",
      "text/plain": [
       "<matplotlib.figure.Figure at 0x7f4a1363d850>"
      ]
     },
     "metadata": {},
     "output_type": "display_data"
    }
   ],
   "source": [
    "trainPredictPlot = numpy.empty_like(dataset)\n",
    "trainPredictPlot[:, :] = numpy.nan\n",
    "trainPredictPlot[look_back:len(trainPredict)+look_back, :] = trainPredict\n",
    "# shift test predictions for plotting\n",
    "testPredictPlot = numpy.empty_like(dataset)\n",
    "testPredictPlot[:, :] = numpy.nan\n",
    "testPredictPlot[len(trainPredict)+(look_back*2)+1:len(dataset)-1, :] = testPredict\n",
    "# plot baseline and predictions\n",
    "#plt.plot(scaler.inverse_transform(dataset))\n",
    "plt.plot(trainPredictPlot)\n",
    "plt.plot(testPredictPlot)\n",
    "plt.show()"
   ]
  },
  {
   "cell_type": "code",
   "execution_count": 79,
   "metadata": {},
   "outputs": [
    {
     "name": "stdout",
     "output_type": "stream",
     "text": [
      "Saved model to disk\n"
     ]
    }
   ],
   "source": [
    "#save keras model\n",
    "model_json = model.to_json()\n",
    "with open(\"model.json\", \"w\") as json_file:\n",
    "    json_file.write(model_json)\n",
    "# serialize weights to HDF5\n",
    "model.save_weights(\"model.h5\")\n",
    "print(\"Saved model to disk\")"
   ]
  },
  {
   "cell_type": "code",
   "execution_count": 81,
   "metadata": {
    "collapsed": true
   },
   "outputs": [],
   "source": [
    "from keras.models import Sequential\n",
    "from keras.layers import Dense\n",
    "from keras.models import model_from_json\n",
    "import numpy\n",
    "import os"
   ]
  },
  {
   "cell_type": "code",
   "execution_count": 82,
   "metadata": {},
   "outputs": [
    {
     "name": "stdout",
     "output_type": "stream",
     "text": [
      "Loaded model from disk\n"
     ]
    }
   ],
   "source": [
    "json_file = open('model.json', 'r')\n",
    "loaded_model_json = json_file.read()\n",
    "json_file.close()\n",
    "loaded_model = model_from_json(loaded_model_json)\n",
    "# load weights into new model\n",
    "loaded_model.load_weights(\"model.h5\")\n",
    "print(\"Loaded model from disk\")"
   ]
  },
  {
   "cell_type": "code",
   "execution_count": 84,
   "metadata": {},
   "outputs": [
    {
     "name": "stdout",
     "output_type": "stream",
     "text": [
      "Test Score: 723.21 RMSE\n"
     ]
    }
   ],
   "source": [
    "\n",
    "# evaluate loaded model on test data\n",
    "loaded_model.compile(loss='mean_squared_error', optimizer='adam', metrics=['accuracy'])\n",
    "testPredict = model.predict(testX)\n",
    "testPredict = scaler.inverse_transform(testPredict)\n",
    "testScore = math.sqrt(mean_squared_error(testY[0], testPredict[:,0]))\n",
    "print('Test Score: %.2f RMSE' % (testScore))"
   ]
  }
 ],
 "metadata": {
  "kernelspec": {
   "display_name": "Python 2",
   "language": "python",
   "name": "python2"
  },
  "language_info": {
   "codemirror_mode": {
    "name": "ipython",
    "version": 2
   },
   "file_extension": ".py",
   "mimetype": "text/x-python",
   "name": "python",
   "nbconvert_exporter": "python",
   "pygments_lexer": "ipython2",
   "version": "2.7.6"
  }
 },
 "nbformat": 4,
 "nbformat_minor": 2
}
